{
  "nbformat": 4,
  "nbformat_minor": 0,
  "metadata": {
    "colab": {
      "name": "CUP IT_data_kiram.ipynb",
      "provenance": [],
      "collapsed_sections": [
        "1amVMgQ3iyOl",
        "KGdA0QmFi5N3",
        "Q3ZatvJxx2Og",
        "nu7JUCsgyPE6",
        "abzKcYhlruh4",
        "M2jzNzoByrqZ",
        "h2f0U1vz_8Pr",
        "LV5wueL6r7Pr",
        "MMER-0PHIgSc"
      ],
      "machine_shape": "hm",
      "authorship_tag": "ABX9TyOEKXDfkQ4clOEMoFFBF/gs",
      "include_colab_link": true
    },
    "kernelspec": {
      "name": "python3",
      "display_name": "Python 3"
    },
    "accelerator": "GPU"
  },
  "cells": [
    {
      "cell_type": "markdown",
      "metadata": {
        "id": "view-in-github",
        "colab_type": "text"
      },
      "source": [
        "<a href=\"https://colab.research.google.com/github/GrinderTeam/raiffeisen_challenge/blob/master/notebooks/CUP_IT_baseline_kiram.ipynb\" target=\"_parent\"><img src=\"https://colab.research.google.com/assets/colab-badge.svg\" alt=\"Open In Colab\"/></a>"
      ]
    },
    {
      "cell_type": "code",
      "metadata": {
        "id": "Mhtrv7XDjL9N",
        "colab_type": "code",
        "colab": {}
      },
      "source": [
        "import pandas as pd\n",
        "import numpy as np\n",
        "from google.colab import drive\n",
        "import matplotlib.pyplot as plt\n",
        "from collections import Counter"
      ],
      "execution_count": 0,
      "outputs": []
    },
    {
      "cell_type": "code",
      "metadata": {
        "id": "UIjiaazvjv7N",
        "colab_type": "code",
        "colab": {}
      },
      "source": [
        "train_data = pd.read_csv('/content/drive/My Drive/BANK_case/data/raw/CUP_IT_train_data.csv',  comment='#', parse_dates=['dlk_cob_date'])"
      ],
      "execution_count": 0,
      "outputs": []
    },
    {
      "cell_type": "code",
      "metadata": {
        "id": "QYlNmawwvs9W",
        "colab_type": "code",
        "outputId": "7ee2ef69-6a95-400f-c218-2b43d606a7ff",
        "colab": {
          "base_uri": "https://localhost:8080/",
          "height": 51
        }
      },
      "source": [
        "num_train_clients = len(set(train_data.cif_id))\n",
        "#num_test_clients = len(set(test_data.cif_id))\n",
        "\n",
        "print('Кол-во клиентов в трейне:', num_train_clients)\n",
        "#print('Кол-во клиентов в тесте:', num_test_clients)\n",
        "\n",
        "print('Кол-во пересечений клиентов из трейна и теста:', len(set(train_data.cif_id) - set(train_data.cif_id)))"
      ],
      "execution_count": 6,
      "outputs": [
        {
          "output_type": "stream",
          "text": [
            "Кол-во клиентов в трейне: 396576\n",
            "Кол-во пересечений клиентов из трейна и теста: 0\n"
          ],
          "name": "stdout"
        }
      ]
    },
    {
      "cell_type": "markdown",
      "metadata": {
        "id": "0_reSew5FaJa",
        "colab_type": "text"
      },
      "source": [
        "\n",
        "\n",
        "---\n",
        "\n",
        "#BASELINE MODEL\n",
        "\n",
        "---\n",
        "\n"
      ]
    },
    {
      "cell_type": "code",
      "metadata": {
        "id": "4fHKeSbvcwbR",
        "colab_type": "code",
        "colab": {}
      },
      "source": [
        "targets = train_data.groupby('cif_id').mean().gi_smooth_3m"
      ],
      "execution_count": 0,
      "outputs": []
    },
    {
      "cell_type": "code",
      "metadata": {
        "id": "5gWsDazOxz7t",
        "colab_type": "code",
        "outputId": "8ff1546d-1417-441b-a018-7c61941f27e6",
        "colab": {
          "base_uri": "https://localhost:8080/",
          "height": 85
        }
      },
      "source": [
        "a = np.log(targets/10)"
      ],
      "execution_count": 8,
      "outputs": [
        {
          "output_type": "stream",
          "text": [
            "/usr/local/lib/python3.6/dist-packages/pandas/core/series.py:856: RuntimeWarning: divide by zero encountered in log\n",
            "  result = getattr(ufunc, method)(*inputs, **kwargs)\n",
            "/usr/local/lib/python3.6/dist-packages/pandas/core/series.py:856: RuntimeWarning: invalid value encountered in log\n",
            "  result = getattr(ufunc, method)(*inputs, **kwargs)\n"
          ],
          "name": "stderr"
        }
      ]
    },
    {
      "cell_type": "code",
      "metadata": {
        "id": "x-0w5J5Jd3mW",
        "colab_type": "code",
        "colab": {}
      },
      "source": [
        "indieces_nans = a.isna().apply(lambda x: True if x == False else False).values"
      ],
      "execution_count": 0,
      "outputs": []
    },
    {
      "cell_type": "code",
      "metadata": {
        "id": "BtUosY3duUOs",
        "colab_type": "code",
        "outputId": "9fbccbf9-19ea-482b-e241-e2ef413d15a6",
        "colab": {
          "base_uri": "https://localhost:8080/",
          "height": 34
        }
      },
      "source": [
        "np.sum(a.isna().values)"
      ],
      "execution_count": 10,
      "outputs": [
        {
          "output_type": "execute_result",
          "data": {
            "text/plain": [
              "2518"
            ]
          },
          "metadata": {
            "tags": []
          },
          "execution_count": 10
        }
      ]
    },
    {
      "cell_type": "code",
      "metadata": {
        "id": "n9Nz-7uxRP6f",
        "colab_type": "code",
        "outputId": "9a9fd90c-e6b0-4fa1-f922-2004a38af2e9",
        "colab": {
          "base_uri": "https://localhost:8080/",
          "height": 265
        }
      },
      "source": [
        "plt.figure(figsize=[8, 4])\n",
        "plt.subplot(1, 1, 1)\n",
        "plt.grid(True)\n",
        "plt.hist(a[indieces_nans], 50, range=(-10, 5));"
      ],
      "execution_count": 11,
      "outputs": [
        {
          "output_type": "display_data",
          "data": {
            "image/png": "[encoded data removed]",
            "text/plain": [
              "<Figure size 576x288 with 1 Axes>"
            ]
          },
          "metadata": {
            "tags": []
          }
        }
      ]
    },
    {
      "cell_type": "code",
      "metadata": {
        "id": "1tCx9BeAkLT0",
        "colab_type": "code",
        "colab": {}
      },
      "source": [
        "columns_without_nans = ['cu_gender', 'payroll_f', 'cur_quantity_pl',\n",
        "       'cur_quantity_mort', 'cur_quantity_cc', 'cur_quantity_deposits',\n",
        "       'cur_quantity_dc', 'cur_quantity_accounts', 'cur_quantity_saccounts',\n",
        "       'cur_quantity_mf', 'dc_cash_spend_v',\n",
        "        'dc_cash_spend_c', 'cc_cash_spend_v',\n",
        "       'cc_cash_spend_c', 'dc_pos_spend_v', 'dc_pos_spend_c', 'cc_pos_spend_v',\n",
        "       'cc_pos_spend_c', 'ca_f', 'rc_session_qnt_cur_mon', 'cur_qnt_sms',\n",
        "       'active', 'standalone_dc_f', 'standalone_payroll_dc_f',\n",
        "       'standalone_nonpayroll_dc_f', 'salary', 'cu_age', 'cu_mob',\n",
        "       'cu_empl_cur_dur_m', 'is_married', 'cu_eduaction_level']"
      ],
      "execution_count": 0,
      "outputs": []
    },
    {
      "cell_type": "code",
      "metadata": {
        "id": "SpktcCrrilIc",
        "colab_type": "code",
        "colab": {}
      },
      "source": [
        "from sklearn.ensemble import RandomForestRegressor\n",
        "from sklearn.metrics import mean_absolute_error"
      ],
      "execution_count": 0,
      "outputs": []
    },
    {
      "cell_type": "code",
      "metadata": {
        "id": "YheOjICdi8J2",
        "colab_type": "code",
        "colab": {}
      },
      "source": [
        "rf_reg = RandomForestRegressor()"
      ],
      "execution_count": 0,
      "outputs": []
    },
    {
      "cell_type": "code",
      "metadata": {
        "id": "YQA4FgNOeRiu",
        "colab_type": "code",
        "colab": {}
      },
      "source": [
        "X = train_data.groupby('cif_id').mean()[columns_without_nans].values[indieces_nans]\n",
        "Y = a.values[indieces_nans]\n",
        "\n",
        "X = X[np.isinf(Y) == False]\n",
        "Y = Y[np.isinf(Y) == False]"
      ],
      "execution_count": 0,
      "outputs": []
    },
    {
      "cell_type": "code",
      "metadata": {
        "id": "BlkWCdx-dV_r",
        "colab_type": "code",
        "outputId": "95f0b073-2bb8-4069-b2bc-fa1c50fd92cf",
        "colab": {
          "base_uri": "https://localhost:8080/",
          "height": 136
        }
      },
      "source": [
        "rf_reg.fit(X, Y)"
      ],
      "execution_count": 16,
      "outputs": [
        {
          "output_type": "execute_result",
          "data": {
            "text/plain": [
              "RandomForestRegressor(bootstrap=True, ccp_alpha=0.0, criterion='mse',\n",
              "                      max_depth=None, max_features='auto', max_leaf_nodes=None,\n",
              "                      max_samples=None, min_impurity_decrease=0.0,\n",
              "                      min_impurity_split=None, min_samples_leaf=1,\n",
              "                      min_samples_split=2, min_weight_fraction_leaf=0.0,\n",
              "                      n_estimators=100, n_jobs=None, oob_score=False,\n",
              "                      random_state=None, verbose=0, warm_start=False)"
            ]
          },
          "metadata": {
            "tags": []
          },
          "execution_count": 16
        }
      ]
    },
    {
      "cell_type": "code",
      "metadata": {
        "id": "RCrsb-P7fF97",
        "colab_type": "code",
        "colab": {}
      },
      "source": [
        ""
      ],
      "execution_count": 0,
      "outputs": []
    }
  ]
}