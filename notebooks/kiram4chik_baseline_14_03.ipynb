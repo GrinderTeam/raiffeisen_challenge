{
  "nbformat": 4,
  "nbformat_minor": 0,
  "metadata": {
    "colab": {
      "name": "CUP IT_data_kiram.ipynb",
      "provenance": [],
      "collapsed_sections": [
        "1amVMgQ3iyOl",
        "KGdA0QmFi5N3",
        "Q3ZatvJxx2Og",
        "nu7JUCsgyPE6",
        "abzKcYhlruh4",
        "M2jzNzoByrqZ",
        "h2f0U1vz_8Pr",
        "LV5wueL6r7Pr",
        "MMER-0PHIgSc"
      ],
      "toc_visible": true,
      "machine_shape": "hm",
      "authorship_tag": "ABX9TyPGo2Q4pwKEtPDnVUgNMPcl",
      "include_colab_link": true
    },
    "kernelspec": {
      "name": "python3",
      "display_name": "Python 3"
    },
    "accelerator": "GPU"
  },
  "cells": [
    {
      "cell_type": "markdown",
      "metadata": {
        "id": "view-in-github",
        "colab_type": "text"
      },
      "source": [
        "<a href=\"https://colab.research.google.com/github/GrinderTeam/raiffeisen_challenge/blob/master/notebooks/kiram4chik_baseline_14_03.ipynb\" target=\"_parent\"><img src=\"https://colab.research.google.com/assets/colab-badge.svg\" alt=\"Open In Colab\"/></a>"
      ]
    },
    {
      "cell_type": "code",
      "metadata": {
        "id": "Mhtrv7XDjL9N",
        "colab_type": "code",
        "colab": {}
      },
      "source": [
        "import pandas as pd\n",
        "import numpy as np\n",
        "from google.colab import drive\n",
        "import matplotlib.pyplot as plt\n",
        "from collections import Counter"
      ],
      "execution_count": 0,
      "outputs": []
    },
    {
      "cell_type": "code",
      "metadata": {
        "id": "UIjiaazvjv7N",
        "colab_type": "code",
        "colab": {}
      },
      "source": [
        "train_data = pd.read_csv('/content/drive/My Drive/BANK_case/data/raw/CUP_IT_train_data.csv',  comment='#', parse_dates=['dlk_cob_date'])\n",
        "test_data = pd.read_csv('/content/drive/My Drive/BANK_case/data/raw/CUP_IT_test_data.csv',  comment='#', parse_dates=['dlk_cob_date'])"
      ],
      "execution_count": 0,
      "outputs": []
    },
    {
      "cell_type": "code",
      "metadata": {
        "id": "QYlNmawwvs9W",
        "colab_type": "code",
        "outputId": "0e358c61-5806-469e-c1a2-09e3c76ba0fa",
        "colab": {
          "base_uri": "https://localhost:8080/",
          "height": 51
        }
      },
      "source": [
        "num_train_clients = len(set(train_data.cif_id))\n",
        "#num_test_clients = len(set(test_data.cif_id))\n",
        "\n",
        "print('Кол-во клиентов в трейне:', num_train_clients)\n",
        "#print('Кол-во клиентов в тесте:', num_test_clients)\n",
        "\n",
        "print('Кол-во пересечений клиентов из трейна и теста:', len(set(train_data.cif_id) - set(train_data.cif_id)))"
      ],
      "execution_count": 5,
      "outputs": [
        {
          "output_type": "stream",
          "text": [
            "Кол-во клиентов в трейне: 396576\n",
            "Кол-во пересечений клиентов из трейна и теста: 0\n"
          ],
          "name": "stdout"
        }
      ]
    },
    {
      "cell_type": "code",
      "metadata": {
        "id": "M_H77Mw5CFcS",
        "colab_type": "code",
        "colab": {
          "base_uri": "https://localhost:8080/",
          "height": 122
        },
        "outputId": "b5a4a39b-b0a7-48b3-cb82-120bef490006"
      },
      "source": [
        "from google.colab import drive\n",
        "drive.mount('/content/drive')"
      ],
      "execution_count": 3,
      "outputs": [
        {
          "output_type": "stream",
          "text": [
            "Go to this URL in a browser: https://accounts.google.com/o/oauth2/auth?client_id=947318989803-6bn6qk8qdgf4n4g3pfee6491hc0brc4i.apps.googleusercontent.com&redirect_uri=urn%3aietf%3awg%3aoauth%3a2.0%3aoob&response_type=code&scope=email%20https%3a%2f%2fwww.googleapis.com%2fauth%2fdocs.test%20https%3a%2f%2fwww.googleapis.com%2fauth%2fdrive%20https%3a%2f%2fwww.googleapis.com%2fauth%2fdrive.photos.readonly%20https%3a%2f%2fwww.googleapis.com%2fauth%2fpeopleapi.readonly\n",
            "\n",
            "Enter your authorization code:\n",
            "··········\n",
            "Mounted at /content/drive\n"
          ],
          "name": "stdout"
        }
      ]
    },
    {
      "cell_type": "markdown",
      "metadata": {
        "id": "0_reSew5FaJa",
        "colab_type": "text"
      },
      "source": [
        "\n",
        "\n",
        "---\n",
        "\n",
        "#BASELINE MODEL\n",
        "\n",
        "---\n",
        "\n"
      ]
    },
    {
      "cell_type": "code",
      "metadata": {
        "id": "4fHKeSbvcwbR",
        "colab_type": "code",
        "colab": {}
      },
      "source": [
        "targets = train_data.groupby('cif_id').mean().gi_smooth_3m\n",
        "test_targets = test_data.groupby('cif_id').mean().gi_smooth_3m"
      ],
      "execution_count": 0,
      "outputs": []
    },
    {
      "cell_type": "code",
      "metadata": {
        "id": "5gWsDazOxz7t",
        "colab_type": "code",
        "outputId": "12679fd6-cb3d-4289-8698-e5653b006aac",
        "colab": {
          "base_uri": "https://localhost:8080/",
          "height": 85
        }
      },
      "source": [
        "a = np.log(targets/10)\n",
        "test_a = np.log(test_targets/10)"
      ],
      "execution_count": 8,
      "outputs": [
        {
          "output_type": "stream",
          "text": [
            "/usr/local/lib/python3.6/dist-packages/pandas/core/series.py:856: RuntimeWarning: divide by zero encountered in log\n",
            "  result = getattr(ufunc, method)(*inputs, **kwargs)\n",
            "/usr/local/lib/python3.6/dist-packages/pandas/core/series.py:856: RuntimeWarning: invalid value encountered in log\n",
            "  result = getattr(ufunc, method)(*inputs, **kwargs)\n"
          ],
          "name": "stderr"
        }
      ]
    },
    {
      "cell_type": "code",
      "metadata": {
        "id": "x-0w5J5Jd3mW",
        "colab_type": "code",
        "colab": {}
      },
      "source": [
        "indieces_nans = a.isna().apply(lambda x: True if x == False else False).values\n",
        "test_indieces_nans = test_a.isna().apply(lambda x: True if x == False else False).values"
      ],
      "execution_count": 0,
      "outputs": []
    },
    {
      "cell_type": "code",
      "metadata": {
        "id": "BtUosY3duUOs",
        "colab_type": "code",
        "outputId": "120c7a9e-0e8f-4260-9d3f-e1e73a8fbdf1",
        "colab": {
          "base_uri": "https://localhost:8080/",
          "height": 34
        }
      },
      "source": [
        "np.sum(a.isna().values), np.sum(test_a.isna().values)"
      ],
      "execution_count": 11,
      "outputs": [
        {
          "output_type": "execute_result",
          "data": {
            "text/plain": [
              "(2518, 733)"
            ]
          },
          "metadata": {
            "tags": []
          },
          "execution_count": 11
        }
      ]
    },
    {
      "cell_type": "code",
      "metadata": {
        "id": "n9Nz-7uxRP6f",
        "colab_type": "code",
        "outputId": "d3fc4fe2-5924-49a3-e0a2-779456f609d1",
        "colab": {
          "base_uri": "https://localhost:8080/",
          "height": 265
        }
      },
      "source": [
        "plt.figure(figsize=[8, 4])\n",
        "plt.subplot(1, 1, 1)\n",
        "plt.grid(True)\n",
        "plt.hist(a[indieces_nans], 50, range=(-10, 5));"
      ],
      "execution_count": 12,
      "outputs": [
        {
          "output_type": "display_data",
          "data": {
            "image/png": "[encoded data removed]",
            "text/plain": [
              "<Figure size 576x288 with 1 Axes>"
            ]
          },
          "metadata": {
            "tags": []
          }
        }
      ]
    },
    {
      "cell_type": "code",
      "metadata": {
        "id": "1qcSywtCIsAa",
        "colab_type": "code",
        "colab": {
          "base_uri": "https://localhost:8080/",
          "height": 265
        },
        "outputId": "07bc0ef6-073b-4c3b-ba7f-e1cf4d53dfe7"
      },
      "source": [
        "plt.figure(figsize=[8, 4])\n",
        "plt.subplot(1, 1, 1)\n",
        "plt.grid(True)\n",
        "plt.hist(test_a[test_indieces_nans], 50, range=(-10, 5));"
      ],
      "execution_count": 13,
      "outputs": [
        {
          "output_type": "display_data",
          "data": {
            "image/png": "[encoded data removed]",
            "text/plain": [
              "<Figure size 576x288 with 1 Axes>"
            ]
          },
          "metadata": {
            "tags": []
          }
        }
      ]
    },
    {
      "cell_type": "code",
      "metadata": {
        "id": "1tCx9BeAkLT0",
        "colab_type": "code",
        "colab": {}
      },
      "source": [
        "columns_without_nans = ['cu_gender', 'payroll_f', 'cur_quantity_pl',\n",
        "       'cur_quantity_mort', 'cur_quantity_cc', 'cur_quantity_deposits',\n",
        "       'cur_quantity_dc', 'cur_quantity_accounts', 'cur_quantity_saccounts',\n",
        "       'cur_quantity_mf', 'dc_cash_spend_v',\n",
        "        'dc_cash_spend_c', 'cc_cash_spend_v',\n",
        "       'cc_cash_spend_c', 'dc_pos_spend_v', 'dc_pos_spend_c', 'cc_pos_spend_v',\n",
        "       'cc_pos_spend_c', 'ca_f', 'rc_session_qnt_cur_mon', 'cur_qnt_sms',\n",
        "       'active', 'standalone_dc_f', 'standalone_payroll_dc_f',\n",
        "       'standalone_nonpayroll_dc_f', 'salary', 'cu_age', 'cu_mob',\n",
        "       'cu_empl_cur_dur_m', 'is_married', 'cu_eduaction_level']"
      ],
      "execution_count": 0,
      "outputs": []
    },
    {
      "cell_type": "code",
      "metadata": {
        "id": "SpktcCrrilIc",
        "colab_type": "code",
        "colab": {}
      },
      "source": [
        "from sklearn.ensemble import RandomForestRegressor\n",
        "from sklearn.metrics import mean_absolute_error"
      ],
      "execution_count": 0,
      "outputs": []
    },
    {
      "cell_type": "code",
      "metadata": {
        "id": "YheOjICdi8J2",
        "colab_type": "code",
        "colab": {}
      },
      "source": [
        "rf_reg = RandomForestRegressor()"
      ],
      "execution_count": 0,
      "outputs": []
    },
    {
      "cell_type": "code",
      "metadata": {
        "id": "YQA4FgNOeRiu",
        "colab_type": "code",
        "colab": {}
      },
      "source": [
        "X = train_data.groupby('cif_id').mean()[columns_without_nans].values[indieces_nans]\n",
        "Y = a.values[indieces_nans]\n",
        "\n",
        "X = X[np.isinf(Y) == False]\n",
        "Y = Y[np.isinf(Y) == False]\n",
        "\n",
        "test_X = test_data.groupby('cif_id').mean()[columns_without_nans].values[test_indieces_nans]\n",
        "test_Y = test_a.values[test_indieces_nans]\n",
        "\n",
        "test_X = test_X[np.isinf(test_Y) == False]\n",
        "test_Y = test_Y[np.isinf(test_Y) == False]"
      ],
      "execution_count": 0,
      "outputs": []
    },
    {
      "cell_type": "code",
      "metadata": {
        "id": "BlkWCdx-dV_r",
        "colab_type": "code",
        "outputId": "6eeedac4-45ea-4d9d-ec5c-65e702f89856",
        "colab": {
          "base_uri": "https://localhost:8080/",
          "height": 136
        }
      },
      "source": [
        "rf_reg.fit(X, Y)"
      ],
      "execution_count": 18,
      "outputs": [
        {
          "output_type": "execute_result",
          "data": {
            "text/plain": [
              "RandomForestRegressor(bootstrap=True, ccp_alpha=0.0, criterion='mse',\n",
              "                      max_depth=None, max_features='auto', max_leaf_nodes=None,\n",
              "                      max_samples=None, min_impurity_decrease=0.0,\n",
              "                      min_impurity_split=None, min_samples_leaf=1,\n",
              "                      min_samples_split=2, min_weight_fraction_leaf=0.0,\n",
              "                      n_estimators=100, n_jobs=None, oob_score=False,\n",
              "                      random_state=None, verbose=0, warm_start=False)"
            ]
          },
          "metadata": {
            "tags": []
          },
          "execution_count": 18
        }
      ]
    },
    {
      "cell_type": "code",
      "metadata": {
        "id": "RCrsb-P7fF97",
        "colab_type": "code",
        "colab": {}
      },
      "source": [
        "prediction = rf_reg.predict(test_X)"
      ],
      "execution_count": 0,
      "outputs": []
    },
    {
      "cell_type": "code",
      "metadata": {
        "id": "g_Z6qSckMYci",
        "colab_type": "code",
        "colab": {
          "base_uri": "https://localhost:8080/",
          "height": 34
        },
        "outputId": "1b407a33-9da1-47ce-d5f4-abc88709ae93"
      },
      "source": [
        "np.mean(np.abs((test_Y - prediction) / test_Y)) * 100  # MAPE"
      ],
      "execution_count": 22,
      "outputs": [
        {
          "output_type": "execute_result",
          "data": {
            "text/plain": [
              "407.28895565352695"
            ]
          },
          "metadata": {
            "tags": []
          },
          "execution_count": 22
        }
      ]
    },
    {
      "cell_type": "code",
      "metadata": {
        "id": "UG9BkCHlMrTd",
        "colab_type": "code",
        "colab": {
          "base_uri": "https://localhost:8080/",
          "height": 34
        },
        "outputId": "4418a1ac-645c-4422-fb34-939a61e2e732"
      },
      "source": [
        "mean_absolute_error(test_Y, prediction) # MAE"
      ],
      "execution_count": 23,
      "outputs": [
        {
          "output_type": "execute_result",
          "data": {
            "text/plain": [
              "0.81088433445913"
            ]
          },
          "metadata": {
            "tags": []
          },
          "execution_count": 23
        }
      ]
    },
    {
      "cell_type": "code",
      "metadata": {
        "id": "uACW03PPM4Oh",
        "colab_type": "code",
        "colab": {}
      },
      "source": [
        ""
      ],
      "execution_count": 0,
      "outputs": []
    }
  ]
}